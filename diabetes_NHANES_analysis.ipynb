{
 "cells": [
  {
   "cell_type": "code",
   "execution_count": 1,
   "metadata": {
    "colab": {
     "base_uri": "https://localhost:8080/"
    },
    "id": "99sZhRZNGQzz",
    "outputId": "cd831ff6-a623-4a00-9de2-6e4790a53717"
   },
   "outputs": [
    {
     "name": "stdout",
     "output_type": "stream",
     "text": [
      "           SEQN  DIQ010  DID040  DIQ160  DIQ180  DIQ050  DID060  DIQ060U  \\\n",
      "0      109263.0     2.0     NaN     NaN     NaN     NaN     NaN      NaN   \n",
      "1      109264.0     2.0     NaN     2.0     2.0     NaN     NaN      NaN   \n",
      "2      109265.0     2.0     NaN     NaN     NaN     NaN     NaN      NaN   \n",
      "3      109266.0     2.0     NaN     1.0     1.0     NaN     NaN      NaN   \n",
      "4      109267.0     2.0     NaN     2.0     2.0     NaN     NaN      NaN   \n",
      "...         ...     ...     ...     ...     ...     ...     ...      ...   \n",
      "14981  124818.0     2.0     NaN     2.0     2.0     NaN     NaN      NaN   \n",
      "14982  124819.0     2.0     NaN     NaN     NaN     NaN     NaN      NaN   \n",
      "14983  124820.0     2.0     NaN     NaN     NaN     NaN     NaN      NaN   \n",
      "14984  124821.0     3.0     NaN     NaN     1.0     NaN     NaN      NaN   \n",
      "14985  124822.0     2.0     NaN     1.0     1.0     NaN     NaN      NaN   \n",
      "\n",
      "       DIQ070  DIQ230  ...  DIQ300D  DID310S  DID310D  DID320  DID330  DID341  \\\n",
      "0         NaN     NaN  ...      NaN      NaN      NaN     NaN     NaN     NaN   \n",
      "1         NaN     NaN  ...      NaN      NaN      NaN     NaN     NaN     NaN   \n",
      "2         NaN     NaN  ...      NaN      NaN      NaN     NaN     NaN     NaN   \n",
      "3         2.0     NaN  ...      NaN      NaN      NaN     NaN     NaN     NaN   \n",
      "4         NaN     NaN  ...      NaN      NaN      NaN     NaN     NaN     NaN   \n",
      "...       ...     ...  ...      ...      ...      ...     ...     ...     ...   \n",
      "14981     NaN     NaN  ...      NaN      NaN      NaN     NaN     NaN     NaN   \n",
      "14982     NaN     NaN  ...      NaN      NaN      NaN     NaN     NaN     NaN   \n",
      "14983     NaN     NaN  ...      NaN      NaN      NaN     NaN     NaN     NaN   \n",
      "14984     2.0     NaN  ...      NaN      NaN      NaN     NaN     NaN     NaN   \n",
      "14985     2.0     NaN  ...      NaN      NaN      NaN     NaN     NaN     NaN   \n",
      "\n",
      "       DID350  DIQ350U  DIQ360  DIQ080  \n",
      "0         NaN      NaN     NaN     NaN  \n",
      "1         NaN      NaN     NaN     NaN  \n",
      "2         NaN      NaN     NaN     NaN  \n",
      "3         NaN      NaN     NaN     NaN  \n",
      "4         NaN      NaN     NaN     NaN  \n",
      "...       ...      ...     ...     ...  \n",
      "14981     NaN      NaN     NaN     NaN  \n",
      "14982     NaN      NaN     NaN     NaN  \n",
      "14983     NaN      NaN     NaN     NaN  \n",
      "14984     NaN      NaN     NaN     NaN  \n",
      "14985     NaN      NaN     NaN     NaN  \n",
      "\n",
      "[14986 rows x 28 columns]\n"
     ]
    }
   ],
   "source": [
    "import pandas as pd\n",
    "import numpy as np\n",
    "import sklearn\n",
    "\n",
    "# reading in the csv of everyone who took the diabetes survey\n",
    "diabetics = pd.read_csv('~/Downloads/NHANES-DR/P_DIQ_2017_2020.csv')\n",
    "# diabetics = pd.read_csv('/content/P_DIQ_2017_2020.csv')\n",
    "\n",
    "print(diabetics)"
   ]
  },
  {
   "cell_type": "code",
   "execution_count": 2,
   "metadata": {
    "colab": {
     "base_uri": "https://localhost:8080/"
    },
    "id": "2Eah6YejGQz2",
    "outputId": "7b327d44-6370-4626-d3c9-bb9d6fb2be2f",
    "scrolled": true
   },
   "outputs": [
    {
     "name": "stdout",
     "output_type": "stream",
     "text": [
      "           SEQN  SDDSRVYR  RIDSTATR  RIAGENDR  RIDAGEYR  RIDAGEMN  RIDRETH1  \\\n",
      "0      109263.0      66.0       2.0       1.0       2.0       NaN       5.0   \n",
      "1      109264.0      66.0       2.0       2.0      13.0       NaN       1.0   \n",
      "2      109265.0      66.0       2.0       1.0       2.0       NaN       3.0   \n",
      "3      109266.0      66.0       2.0       2.0      29.0       NaN       5.0   \n",
      "4      109267.0      66.0       1.0       2.0      21.0       NaN       2.0   \n",
      "...         ...       ...       ...       ...       ...       ...       ...   \n",
      "15555  124818.0      66.0       2.0       1.0      40.0       NaN       4.0   \n",
      "15556  124819.0      66.0       2.0       1.0       2.0       NaN       4.0   \n",
      "15557  124820.0      66.0       2.0       2.0       7.0       NaN       3.0   \n",
      "15558  124821.0      66.0       2.0       1.0      63.0       NaN       4.0   \n",
      "15559  124822.0      66.0       2.0       1.0      74.0       NaN       2.0   \n",
      "\n",
      "       RIDRETH3  RIDEXMON  DMDBORN4  ...  FIAINTRP  MIALANG  MIAPROXY  \\\n",
      "0           6.0       2.0       1.0  ...       2.0      NaN       NaN   \n",
      "1           1.0       2.0       1.0  ...       2.0      1.0       2.0   \n",
      "2           3.0       2.0       1.0  ...       2.0      NaN       NaN   \n",
      "3           6.0       2.0       2.0  ...       2.0      1.0       2.0   \n",
      "4           2.0       NaN       2.0  ...       2.0      NaN       NaN   \n",
      "...         ...       ...       ...  ...       ...      ...       ...   \n",
      "15555       4.0       1.0       1.0  ...       2.0      1.0       2.0   \n",
      "15556       4.0       2.0       1.0  ...       2.0      NaN       NaN   \n",
      "15557       3.0       2.0       1.0  ...       2.0      NaN       NaN   \n",
      "15558       4.0       1.0       1.0  ...       2.0      1.0       2.0   \n",
      "15559       2.0       2.0       2.0  ...       NaN      2.0       2.0   \n",
      "\n",
      "       MIAINTRP  AIALANGA      WTINTPRP      WTMECPRP  SDMVPSU  SDMVSTRA  \\\n",
      "0           NaN       NaN   7891.762435   8951.815567      3.0     156.0   \n",
      "1           2.0       1.0  11689.747264  12271.157043      1.0     155.0   \n",
      "2           NaN       NaN  16273.825939  16658.764203      1.0     157.0   \n",
      "3           2.0       1.0   7825.646112   8154.968193      2.0     168.0   \n",
      "4           NaN       NaN  26379.991724      0.000000      1.0     156.0   \n",
      "...         ...       ...           ...           ...      ...       ...   \n",
      "15555       2.0       1.0  21586.596728  21666.889837      1.0     166.0   \n",
      "15556       NaN       NaN   1664.919253   1838.169709      2.0     171.0   \n",
      "15557       NaN       NaN  14819.783161  16497.806674      1.0     157.0   \n",
      "15558       2.0       1.0   4666.817952   4853.430230      1.0     158.0   \n",
      "15559       2.0       NaN  14024.476634  15195.796658      1.0     149.0   \n",
      "\n",
      "       INDFMPIR  \n",
      "0          4.66  \n",
      "1          0.83  \n",
      "2          3.06  \n",
      "3          5.00  \n",
      "4          5.00  \n",
      "...         ...  \n",
      "15555      3.82  \n",
      "15556      0.07  \n",
      "15557      1.22  \n",
      "15558      3.71  \n",
      "15559       NaN  \n",
      "\n",
      "[15560 rows x 29 columns]\n"
     ]
    }
   ],
   "source": [
    "# reading in whoever took the NHANES demographics survey\n",
    "demographics = pd.read_csv('~/Downloads/NHANES-DR/P_DEMO_2017_2020.csv')\n",
    "# demographics = pd.read_csv('/content/P_DEMO_2017_2020.csv')\n",
    "print(demographics)"
   ]
  },
  {
   "cell_type": "code",
   "execution_count": 3,
   "metadata": {
    "id": "8L4_sLOJGQz2"
   },
   "outputs": [],
   "source": [
    "# this table now has everyone who took the demographic and diabetes surveys with demographic info\n",
    "diabetics = diabetics.merge(demographics, on = \"SEQN\", how = \"inner\")\n",
    "\n",
    "diabetics = diabetics.merge(demographics, on = \"SEQN\", how = \"inner\")\n",
    "\n",
    "diabetics = diabetics.merge(demographics, on = \"SEQN\", how = \"inner\")\n",
    "\n",
    "diabetics = diabetics.merge(demographics, on = \"SEQN\", how = \"inner\")\n",
    "\n",
    "diabetics = diabetics.merge(demographics, on = \"SEQN\", how = \"inner\")"
   ]
  },
  {
   "cell_type": "code",
   "execution_count": 4,
   "metadata": {
    "colab": {
     "base_uri": "https://localhost:8080/"
    },
    "id": "vP7ejXGGGQz3",
    "outputId": "0ceb9df0-c3f0-4c9d-8fc6-457715a03843"
   },
   "outputs": [
    {
     "name": "stdout",
     "output_type": "stream",
     "text": [
      "           SEQN  DIQ010  DID040  DIQ160  DIQ180  DIQ050  DID060  DIQ060U  \\\n",
      "10     109274.0     1.0    54.0     NaN     NaN     1.0     1.0      2.0   \n",
      "11     109275.0     1.0     4.0     NaN     NaN     1.0     2.0      2.0   \n",
      "24     109290.0     1.0    60.0     NaN     NaN     2.0     NaN      NaN   \n",
      "26     109292.0     1.0    55.0     NaN     NaN     2.0     NaN      NaN   \n",
      "31     109298.0     1.0    52.0     NaN     NaN     2.0     NaN      NaN   \n",
      "...         ...     ...     ...     ...     ...     ...     ...      ...   \n",
      "14942  124778.0     1.0    44.0     NaN     NaN     2.0     NaN      NaN   \n",
      "14952  124788.0     1.0    50.0     NaN     NaN     2.0     NaN      NaN   \n",
      "14960  124796.0     1.0    54.0     NaN     NaN     2.0     NaN      NaN   \n",
      "14966  124803.0     1.0    32.0     NaN     NaN     2.0     NaN      NaN   \n",
      "14980  124817.0     1.0    67.0     NaN     NaN     2.0     NaN      NaN   \n",
      "\n",
      "       DIQ070  DIQ230  ...  FIAINTRP  MIALANG  MIAPROXY  MIAINTRP  AIALANGA  \\\n",
      "10        1.0     1.0  ...       2.0      1.0       2.0       2.0       1.0   \n",
      "11        2.0     1.0  ...       2.0      NaN       NaN       NaN       NaN   \n",
      "24        1.0     2.0  ...       2.0      1.0       2.0       2.0       1.0   \n",
      "26        1.0     5.0  ...       2.0      1.0       2.0       2.0       NaN   \n",
      "31        1.0     4.0  ...       2.0      1.0       1.0       2.0       NaN   \n",
      "...       ...     ...  ...       ...      ...       ...       ...       ...   \n",
      "14942     1.0     4.0  ...       2.0      1.0       2.0       2.0       1.0   \n",
      "14952     2.0     5.0  ...       2.0      1.0       2.0       2.0       1.0   \n",
      "14960     1.0     5.0  ...       2.0      1.0       2.0       2.0       1.0   \n",
      "14966     1.0     1.0  ...       2.0      2.0       2.0       2.0       2.0   \n",
      "14980     1.0     5.0  ...       2.0      2.0       2.0       2.0       2.0   \n",
      "\n",
      "           WTINTPRP      WTMECPRP  SDMVPSU  SDMVSTRA  INDFMPIR  \n",
      "10      7227.993241   7801.600218      2.0     167.0      1.20  \n",
      "11     16372.533970  17610.326826      2.0     164.0      3.74  \n",
      "24      3967.693106   4099.841985      1.0     171.0      5.00  \n",
      "26     15941.778001  17463.112885      2.0     150.0      1.60  \n",
      "31      7587.880067   7866.974787      1.0     167.0      1.75  \n",
      "...             ...           ...      ...       ...       ...  \n",
      "14942  13324.280657  13922.135130      1.0     154.0      5.00  \n",
      "14952   3013.473594   3103.475884      1.0     171.0      4.69  \n",
      "14960   4516.585648   4667.864801      1.0     167.0       NaN  \n",
      "14966  24789.078370  24004.883291      1.0     155.0      1.37  \n",
      "14980   7724.092682   8189.572200      2.0     165.0      2.19  \n",
      "\n",
      "[1445 rows x 56 columns]\n"
     ]
    }
   ],
   "source": [
    "# this table has everyone who has diabetes\n",
    "only_dm = diabetics.query(\"DIQ010 == 1\")\n",
    "print(only_dm)"
   ]
  },
  {
   "cell_type": "code",
   "execution_count": 5,
   "metadata": {
    "colab": {
     "base_uri": "https://localhost:8080/",
     "height": 561
    },
    "id": "FIABZ8PYmUuI",
    "outputId": "10ba7d2b-a122-47c4-ad2c-3a5eba18f296"
   },
   "outputs": [],
   "source": [
    "# Define the mapping dictionaries\n",
    "# gender_mapping = {'1': 'Male', '2': 'Female', 'NA': 'Missing'}\n",
    "# ethnic_mapping = {'1': 'Mexican American', '2': 'Other Hispanic',\n",
    "#                   '3': 'Non-Hispanic White', '4': 'Non-Hispanic Black',\n",
    "#                   '6': 'Non-Hispanic Asian', '7': 'Other Race - Including Multi-Racial', 'NA': 'Missing'}\n",
    "# educ_level_map = {'1':\t'Less than 9th grade',\n",
    "#                   '2':\t'9-11th grade (Includes 12th grade with no diploma)',\n",
    "#                   '3':\t'High school graduate/GED or equivalent',\n",
    "#                   '4':\t'Some college or AA degree',\n",
    "#                   '5':\t'College graduate or above',\n",
    "#                   '7':\t'Refused',\n",
    "#                   '9':\t\"Don't Know\",\n",
    "#                   'NA':\t'Missing'}\n",
    "\n",
    "# # Recode the values\n",
    "# only_dm['Gender/Sex'] = only_dm['Gender/Sex'].map(gender_mapping)\n",
    "# only_dm['Ethnicity/Race'] = only_dm['Ethnicity/Race'].map(ethnic_mapping)\n",
    "# only_dm['Education level'] = only_dm['Education level'].map(educ_level_map)\n",
    "\n",
    "# Rename the columns\n",
    "# only_dm = only_dm.rename(columns={'RIAGENDR': 'Gender/Sex'})\n",
    "# only_dm = only_dm.rename(columns={'RIDRETH3': 'Ethnicity/Race'})\n",
    "# only_dm = only_dm.rename(columns={'DMDEDUC2': 'Education level'})\n",
    "\n",
    "# print(only_dm)"
   ]
  },
  {
   "cell_type": "code",
   "execution_count": 6,
   "metadata": {
    "id": "Fz92H6aqGQz3"
   },
   "outputs": [
    {
     "name": "stdout",
     "output_type": "stream",
     "text": [
      "           SEQN  DIQ010  DID040  DIQ160  DIQ180  DIQ050  DID060  DIQ060U  \\\n",
      "48     109316.0     1.0    58.0     NaN     NaN     2.0     NaN      NaN   \n",
      "102    109373.0     1.0    12.0     NaN     NaN     1.0    18.0      2.0   \n",
      "212    109490.0     1.0    69.0     NaN     NaN     1.0     8.0      2.0   \n",
      "329    109612.0     1.0    60.0     NaN     NaN     2.0     NaN      NaN   \n",
      "354    109638.0     1.0    37.0     NaN     NaN     1.0     5.0      2.0   \n",
      "...         ...     ...     ...     ...     ...     ...     ...      ...   \n",
      "14811  124638.0     1.0    49.0     NaN     NaN     2.0     NaN      NaN   \n",
      "14827  124656.0     1.0    46.0     NaN     NaN     1.0    20.0      2.0   \n",
      "14883  124717.0     1.0    21.0     NaN     NaN     1.0    30.0      2.0   \n",
      "14884  124718.0     1.0    42.0     NaN     NaN     2.0     NaN      NaN   \n",
      "14892  124726.0     1.0   999.0     NaN     NaN     1.0     4.0      2.0   \n",
      "\n",
      "       DIQ070  DIQ230  ...  FIAINTRP  MIALANG  MIAPROXY  MIAINTRP  AIALANGA  \\\n",
      "48        1.0     3.0  ...       2.0      1.0       2.0       2.0       1.0   \n",
      "102       2.0     3.0  ...       2.0      1.0       2.0       2.0       1.0   \n",
      "212       2.0     1.0  ...       2.0      1.0       2.0       2.0       NaN   \n",
      "329       1.0     4.0  ...       NaN      1.0       2.0       2.0       NaN   \n",
      "354       1.0     1.0  ...       2.0      1.0       2.0       2.0       1.0   \n",
      "...       ...     ...  ...       ...      ...       ...       ...       ...   \n",
      "14811     1.0     5.0  ...       2.0      1.0       2.0       2.0       1.0   \n",
      "14827     1.0     4.0  ...       2.0      2.0       2.0       2.0       NaN   \n",
      "14883     2.0     1.0  ...       2.0      1.0       2.0       2.0       1.0   \n",
      "14884     1.0     5.0  ...       2.0      NaN       NaN       NaN       NaN   \n",
      "14892     1.0     3.0  ...       2.0      2.0       2.0       2.0       2.0   \n",
      "\n",
      "            WTINTPRP       WTMECPRP  SDMVPSU  SDMVSTRA  INDFMPIR  \n",
      "48       6119.732139    6448.398885      1.0     150.0      0.07  \n",
      "102     14343.322465   14611.858553      2.0     167.0      1.22  \n",
      "212      4105.767387    4268.063945      2.0     169.0       NaN  \n",
      "329      4219.124104    4280.287645      2.0     151.0       NaN  \n",
      "354    100202.203029  116101.632791      1.0     158.0      3.03  \n",
      "...              ...            ...      ...       ...       ...  \n",
      "14811   86968.490855   91652.121966      2.0     160.0      4.73  \n",
      "14827    3753.780219    4076.321404      2.0     164.0      0.09  \n",
      "14883    7721.079131    7271.786706      2.0     151.0      1.05  \n",
      "14884    7733.690983    8257.430591      2.0     169.0       NaN  \n",
      "14892    5154.404973    5548.580637      1.0     149.0      0.67  \n",
      "\n",
      "[281 rows x 56 columns]\n"
     ]
    }
   ],
   "source": [
    "# this is a table of everyone with diabetic retinopathy\n",
    "only_dm_ret = only_dm.query(\"DIQ080 == 1\")\n",
    "print(only_dm_ret)"
   ]
  },
  {
   "cell_type": "markdown",
   "metadata": {
    "id": "D99blORpGQz3"
   },
   "source": [
    "## Demographic distributions for people surveyed that have diabetes:\n",
    "\n",
    "Here we take the combined table of the diabetes survey joined with demographics and filtered for only those people with diabetes.\n",
    "Now we will look at each of the significant demographic variables, create plots to break down the distribution of diabetes across each group for each variable, and do hypothesis tests for whether the distribution matches a certain default spread"
   ]
  },
  {
   "cell_type": "code",
   "execution_count": 8,
   "metadata": {},
   "outputs": [
    {
     "data": {
      "text/plain": [
       "Index(['SEQN', 'DIQ010', 'DID040', 'DIQ160', 'DIQ180', 'DIQ050', 'DID060',\n",
       "       'DIQ060U', 'DIQ070', 'DIQ230', 'DIQ240', 'DID250', 'DID260', 'DIQ260U',\n",
       "       'DIQ275', 'DIQ280', 'DIQ291', 'DIQ300S', 'DIQ300D', 'DID310S',\n",
       "       'DID310D', 'DID320', 'DID330', 'DID341', 'DID350', 'DIQ350U', 'DIQ360',\n",
       "       'DIQ080', 'SDDSRVYR', 'RIDSTATR', 'Gender/Sex', 'RIDAGEYR', 'RIDAGEMN',\n",
       "       'RIDRETH1', 'Ethnicity/Race', 'RIDEXMON', 'DMDBORN4', 'DMDYRUSZ',\n",
       "       'Education level', 'DMDMARTZ', 'RIDEXPRG', 'SIALANG', 'SIAPROXY',\n",
       "       'SIAINTRP', 'FIALANG', 'FIAPROXY', 'FIAINTRP', 'MIALANG', 'MIAPROXY',\n",
       "       'MIAINTRP', 'AIALANGA', 'WTINTPRP', 'WTMECPRP', 'SDMVPSU', 'SDMVSTRA',\n",
       "       'INDFMPIR'],\n",
       "      dtype='object')"
      ]
     },
     "execution_count": 8,
     "metadata": {},
     "output_type": "execute_result"
    }
   ],
   "source": [
    "only_dm.columns"
   ]
  },
  {
   "cell_type": "code",
   "execution_count": 11,
   "metadata": {},
   "outputs": [
    {
     "data": {
      "text/plain": [
       "<bound method NDFrame.head of            SEQN  DIQ010  DID040  DIQ160  DIQ180  DIQ050  DID060  DIQ060U  \\\n",
       "10     109274.0     1.0    54.0     NaN     NaN     1.0     1.0      2.0   \n",
       "11     109275.0     1.0     4.0     NaN     NaN     1.0     2.0      2.0   \n",
       "24     109290.0     1.0    60.0     NaN     NaN     2.0     NaN      NaN   \n",
       "26     109292.0     1.0    55.0     NaN     NaN     2.0     NaN      NaN   \n",
       "31     109298.0     1.0    52.0     NaN     NaN     2.0     NaN      NaN   \n",
       "...         ...     ...     ...     ...     ...     ...     ...      ...   \n",
       "14942  124778.0     1.0    44.0     NaN     NaN     2.0     NaN      NaN   \n",
       "14952  124788.0     1.0    50.0     NaN     NaN     2.0     NaN      NaN   \n",
       "14960  124796.0     1.0    54.0     NaN     NaN     2.0     NaN      NaN   \n",
       "14966  124803.0     1.0    32.0     NaN     NaN     2.0     NaN      NaN   \n",
       "14980  124817.0     1.0    67.0     NaN     NaN     2.0     NaN      NaN   \n",
       "\n",
       "       DIQ070  DIQ230  ...  FIAINTRP  MIALANG  MIAPROXY  MIAINTRP  AIALANGA  \\\n",
       "10        1.0     1.0  ...       2.0      1.0       2.0       2.0       1.0   \n",
       "11        2.0     1.0  ...       2.0      NaN       NaN       NaN       NaN   \n",
       "24        1.0     2.0  ...       2.0      1.0       2.0       2.0       1.0   \n",
       "26        1.0     5.0  ...       2.0      1.0       2.0       2.0       NaN   \n",
       "31        1.0     4.0  ...       2.0      1.0       1.0       2.0       NaN   \n",
       "...       ...     ...  ...       ...      ...       ...       ...       ...   \n",
       "14942     1.0     4.0  ...       2.0      1.0       2.0       2.0       1.0   \n",
       "14952     2.0     5.0  ...       2.0      1.0       2.0       2.0       1.0   \n",
       "14960     1.0     5.0  ...       2.0      1.0       2.0       2.0       1.0   \n",
       "14966     1.0     1.0  ...       2.0      2.0       2.0       2.0       2.0   \n",
       "14980     1.0     5.0  ...       2.0      2.0       2.0       2.0       2.0   \n",
       "\n",
       "           WTINTPRP      WTMECPRP  SDMVPSU  SDMVSTRA  INDFMPIR  \n",
       "10      7227.993241   7801.600218      2.0     167.0      1.20  \n",
       "11     16372.533970  17610.326826      2.0     164.0      3.74  \n",
       "24      3967.693106   4099.841985      1.0     171.0      5.00  \n",
       "26     15941.778001  17463.112885      2.0     150.0      1.60  \n",
       "31      7587.880067   7866.974787      1.0     167.0      1.75  \n",
       "...             ...           ...      ...       ...       ...  \n",
       "14942  13324.280657  13922.135130      1.0     154.0      5.00  \n",
       "14952   3013.473594   3103.475884      1.0     171.0      4.69  \n",
       "14960   4516.585648   4667.864801      1.0     167.0       NaN  \n",
       "14966  24789.078370  24004.883291      1.0     155.0      1.37  \n",
       "14980   7724.092682   8189.572200      2.0     165.0      2.19  \n",
       "\n",
       "[1445 rows x 56 columns]>"
      ]
     },
     "execution_count": 11,
     "metadata": {},
     "output_type": "execute_result"
    }
   ],
   "source": [
    "only_dm.head"
   ]
  },
  {
   "cell_type": "code",
   "execution_count": 19,
   "metadata": {},
   "outputs": [
    {
     "data": {
      "text/plain": [
       "48       2.0\n",
       "102      2.0\n",
       "354      2.0\n",
       "367      2.0\n",
       "552      2.0\n",
       "        ... \n",
       "14603    2.0\n",
       "14697    2.0\n",
       "14827    2.0\n",
       "14883    2.0\n",
       "14884    2.0\n",
       "Name: RIAGENDR, Length: 140, dtype: float64"
      ]
     },
     "execution_count": 19,
     "metadata": {},
     "output_type": "execute_result"
    }
   ],
   "source": [
    "only_dm_ret.query('RIAGENDR == 2.0')['RIAGENDR']"
   ]
  },
  {
   "cell_type": "code",
   "execution_count": 21,
   "metadata": {},
   "outputs": [
    {
     "data": {
      "text/html": [
       "<div>\n",
       "<style scoped>\n",
       "    .dataframe tbody tr th:only-of-type {\n",
       "        vertical-align: middle;\n",
       "    }\n",
       "\n",
       "    .dataframe tbody tr th {\n",
       "        vertical-align: top;\n",
       "    }\n",
       "\n",
       "    .dataframe thead th {\n",
       "        text-align: right;\n",
       "    }\n",
       "</style>\n",
       "<table border=\"1\" class=\"dataframe\">\n",
       "  <thead>\n",
       "    <tr style=\"text-align: right;\">\n",
       "      <th></th>\n",
       "      <th>RIAGENDR</th>\n",
       "      <th>diabetes gender counts</th>\n",
       "      <th>diabetes gender proportions</th>\n",
       "      <th>percent of total population of gender with diabetes</th>\n",
       "      <th>count of diabetics with retinopathy</th>\n",
       "      <th>percent of diabetics of each gender with retinopathy</th>\n",
       "    </tr>\n",
       "  </thead>\n",
       "  <tbody>\n",
       "    <tr>\n",
       "      <th>0</th>\n",
       "      <td>1.0</td>\n",
       "      <td>771</td>\n",
       "      <td>0.533564</td>\n",
       "      <td>0.099858</td>\n",
       "      <td>NaN</td>\n",
       "      <td>NaN</td>\n",
       "    </tr>\n",
       "    <tr>\n",
       "      <th>1</th>\n",
       "      <td>2.0</td>\n",
       "      <td>674</td>\n",
       "      <td>0.466436</td>\n",
       "      <td>0.085980</td>\n",
       "      <td>141.0</td>\n",
       "      <td>0.209199</td>\n",
       "    </tr>\n",
       "  </tbody>\n",
       "</table>\n",
       "</div>"
      ],
      "text/plain": [
       "   RIAGENDR  diabetes gender counts  diabetes gender proportions  \\\n",
       "0       1.0                     771                     0.533564   \n",
       "1       2.0                     674                     0.466436   \n",
       "\n",
       "   percent of total population of gender with diabetes  \\\n",
       "0                                           0.099858     \n",
       "1                                           0.085980     \n",
       "\n",
       "   count of diabetics with retinopathy  \\\n",
       "0                                  NaN   \n",
       "1                                141.0   \n",
       "\n",
       "   percent of diabetics of each gender with retinopathy  \n",
       "0                                                NaN     \n",
       "1                                           0.209199     "
      ]
     },
     "execution_count": 21,
     "metadata": {},
     "output_type": "execute_result"
    }
   ],
   "source": [
    "dm_gend_dist = (only_dm.groupby(['RIAGENDR']).size()).reset_index(name = 'diabetes gender counts')\n",
    "dm_gend_dist['diabetes gender proportions'] = dm_gend_dist['diabetes gender counts']/sum(dm_gend_dist['diabetes gender counts'])\n",
    "total_gend_dist = (demographics.groupby(['RIAGENDR']).size()).reset_index(name = 'counts')\n",
    "dm_gend_dist['percent of total population of gender with diabetes'] = dm_gend_dist['diabetes gender counts']/total_gend_dist['counts']\n",
    "dm_gend_dist['count of diabetics with retinopathy'] = (only_dm_ret.groupby(['RIAGENDR']).size())\n",
    "dm_gend_dist['percent of diabetics of each gender with retinopathy'] = dm_gend_dist['count of diabetics with retinopathy']/dm_gend_dist['diabetes gender counts']\n",
    "dm_gend_dist"
   ]
  },
  {
   "cell_type": "code",
   "execution_count": 30,
   "metadata": {},
   "outputs": [
    {
     "name": "stdout",
     "output_type": "stream",
     "text": [
      "RIDRETH3\n",
      "1.0    32\n",
      "2.0    36\n",
      "3.0    86\n",
      "4.0    84\n",
      "6.0    31\n",
      "7.0    12\n",
      "dtype: int64\n"
     ]
    }
   ],
   "source": [
    "print(only_dm_ret.groupby('RIDRETH3').size())"
   ]
  },
  {
   "cell_type": "code",
   "execution_count": 29,
   "metadata": {},
   "outputs": [
    {
     "name": "stdout",
     "output_type": "stream",
     "text": [
      "32\n",
      "36\n",
      "86\n",
      "84\n",
      "31\n",
      "12\n"
     ]
    }
   ],
   "source": [
    "print(len(only_dm_ret.query('RIDRETH3 == 1.0')['RIDRETH3']))\n",
    "print(len(only_dm_ret.query('RIDRETH3 == 2.0')['RIDRETH3']))\n",
    "print(len(only_dm_ret.query('RIDRETH3 == 3.0')['RIDRETH3']))\n",
    "print(len(only_dm_ret.query('RIDRETH3 == 4.0')['RIDRETH3']))\n",
    "print(len(only_dm_ret.query('RIDRETH3 == 6.0')['RIDRETH3']))\n",
    "print(len(only_dm_ret.query('RIDRETH3 == 7.0')['RIDRETH3']))"
   ]
  },
  {
   "cell_type": "code",
   "execution_count": 24,
   "metadata": {
    "id": "0Pmho1mwGQz4"
   },
   "outputs": [
    {
     "data": {
      "text/html": [
       "<div>\n",
       "<style scoped>\n",
       "    .dataframe tbody tr th:only-of-type {\n",
       "        vertical-align: middle;\n",
       "    }\n",
       "\n",
       "    .dataframe tbody tr th {\n",
       "        vertical-align: top;\n",
       "    }\n",
       "\n",
       "    .dataframe thead th {\n",
       "        text-align: right;\n",
       "    }\n",
       "</style>\n",
       "<table border=\"1\" class=\"dataframe\">\n",
       "  <thead>\n",
       "    <tr style=\"text-align: right;\">\n",
       "      <th></th>\n",
       "      <th>RIDRETH3</th>\n",
       "      <th>dm_counts</th>\n",
       "      <th>dm_props</th>\n",
       "      <th>total_ethn_counts</th>\n",
       "      <th>total_ethn_props</th>\n",
       "      <th>count of diabetics with retinopathy</th>\n",
       "      <th>percent of diabetics of each ethnicity with retinopathy</th>\n",
       "    </tr>\n",
       "  </thead>\n",
       "  <tbody>\n",
       "    <tr>\n",
       "      <th>0</th>\n",
       "      <td>1.0</td>\n",
       "      <td>187</td>\n",
       "      <td>0.129412</td>\n",
       "      <td>1990</td>\n",
       "      <td>0.012018</td>\n",
       "      <td>NaN</td>\n",
       "      <td>NaN</td>\n",
       "    </tr>\n",
       "    <tr>\n",
       "      <th>1</th>\n",
       "      <td>2.0</td>\n",
       "      <td>145</td>\n",
       "      <td>0.100346</td>\n",
       "      <td>1544</td>\n",
       "      <td>0.009319</td>\n",
       "      <td>32.0</td>\n",
       "      <td>0.220690</td>\n",
       "    </tr>\n",
       "    <tr>\n",
       "      <th>2</th>\n",
       "      <td>3.0</td>\n",
       "      <td>470</td>\n",
       "      <td>0.325260</td>\n",
       "      <td>5271</td>\n",
       "      <td>0.030206</td>\n",
       "      <td>36.0</td>\n",
       "      <td>0.076596</td>\n",
       "    </tr>\n",
       "    <tr>\n",
       "      <th>3</th>\n",
       "      <td>4.0</td>\n",
       "      <td>418</td>\n",
       "      <td>0.289273</td>\n",
       "      <td>4098</td>\n",
       "      <td>0.026864</td>\n",
       "      <td>86.0</td>\n",
       "      <td>0.205742</td>\n",
       "    </tr>\n",
       "    <tr>\n",
       "      <th>4</th>\n",
       "      <td>6.0</td>\n",
       "      <td>150</td>\n",
       "      <td>0.103806</td>\n",
       "      <td>1638</td>\n",
       "      <td>0.009640</td>\n",
       "      <td>84.0</td>\n",
       "      <td>0.560000</td>\n",
       "    </tr>\n",
       "    <tr>\n",
       "      <th>5</th>\n",
       "      <td>7.0</td>\n",
       "      <td>75</td>\n",
       "      <td>0.051903</td>\n",
       "      <td>1019</td>\n",
       "      <td>0.004820</td>\n",
       "      <td>NaN</td>\n",
       "      <td>NaN</td>\n",
       "    </tr>\n",
       "  </tbody>\n",
       "</table>\n",
       "</div>"
      ],
      "text/plain": [
       "   RIDRETH3  dm_counts  dm_props  total_ethn_counts  total_ethn_props  \\\n",
       "0       1.0        187  0.129412               1990          0.012018   \n",
       "1       2.0        145  0.100346               1544          0.009319   \n",
       "2       3.0        470  0.325260               5271          0.030206   \n",
       "3       4.0        418  0.289273               4098          0.026864   \n",
       "4       6.0        150  0.103806               1638          0.009640   \n",
       "5       7.0         75  0.051903               1019          0.004820   \n",
       "\n",
       "   count of diabetics with retinopathy  \\\n",
       "0                                  NaN   \n",
       "1                                 32.0   \n",
       "2                                 36.0   \n",
       "3                                 86.0   \n",
       "4                                 84.0   \n",
       "5                                  NaN   \n",
       "\n",
       "   percent of diabetics of each ethnicity with retinopathy  \n",
       "0                                                NaN        \n",
       "1                                           0.220690        \n",
       "2                                           0.076596        \n",
       "3                                           0.205742        \n",
       "4                                           0.560000        \n",
       "5                                                NaN        "
      ]
     },
     "execution_count": 24,
     "metadata": {},
     "output_type": "execute_result"
    }
   ],
   "source": [
    "# this is where we will analyze the demographic variable distributions for everyone with diabetes\n",
    "ethn_dm_dist = (only_dm.groupby(['RIDRETH3']).size()).reset_index(name = 'dm_counts')\n",
    "# ethn_dm_dist.rename(columns = {'RIDRETH3': 'Race'})\n",
    "ethn_dm_dist['dm_props'] = ethn_dm_dist['dm_counts']/sum(ethn_dm_dist['dm_counts'])\n",
    "total_ethn = (demographics.groupby(['RIDRETH3']).size()).reset_index(name = 'counts')\n",
    "ethn_dm_dist['total_ethn_counts'] = total_ethn['counts']\n",
    "ethn_dm_dist['total_ethn_props'] = ethn_dm_dist['dm_counts']/sum(ethn_dm_dist['total_ethn_counts'])\n",
    "ethn_dm_dist['count of diabetics with retinopathy'] = (only_dm_ret.groupby(['RIDRETH3']).size())\n",
    "ethn_dm_dist['percent of diabetics of each ethnicity with retinopathy'] = ethn_dm_dist['count of diabetics with retinopathy']/ethn_dm_dist['dm_counts']\n",
    "ethn_dm_dist"
   ]
  },
  {
   "cell_type": "code",
   "execution_count": null,
   "metadata": {
    "id": "GiPi6eFuGQz5"
   },
   "outputs": [],
   "source": [
    "# this is where we will analyze the demographic variable distributions for everyone with diabetes\n",
    "educ_dm_dist = (only_dm.groupby(['DMDEDUC2']).size()).reset_index(name = 'dm_counts')\n",
    "# ethn_dm_dist.rename(columns = {'RIDRETH3': 'Race'})\n",
    "educ_dm_dist['dm_props'] = educ_dm_dist['dm_counts']/sum(educ_dm_dist['dm_counts'])\n",
    "total_educ = (demographics.groupby(['DMDEDUC2']).size()).reset_index(name = 'counts')\n",
    "educ_dm_dist['total_educ_counts'] = total_educ['counts']\n",
    "educ_dm_dist['total_educ_props'] = educ_dm_dist['dm_counts']/sum(educ_dm_dist['total_educ_counts'])\n",
    "educ_dm_dist"
   ]
  },
  {
   "cell_type": "code",
   "execution_count": null,
   "metadata": {
    "id": "XSV9-dY2GQz5"
   },
   "outputs": [],
   "source": [
    "ethn_educ_dm_dist = (only_dm.groupby(['RIDRETH3', 'DMDEDUC2']).size()).reset_index(name = 'dm_counts')\n",
    "ethn_educ_dm_dist['dm_props'] = ethn_educ_dm_dist['dm_counts']/sum(ethn_educ_dm_dist['dm_counts'])\n",
    "total_ethn = (demographics.groupby(['RIDRETH3', 'DMDEDUC2']).size()).reset_index(name = 'counts')\n",
    "ethn_educ_dm_dist['total_counts'] = total_ethn['counts']\n",
    "ethn_educ_dm_dist['total_props'] = ethn_educ_dm_dist['dm_counts']/sum(ethn_educ_dm_dist['total_counts'])\n",
    "ethn_educ_dm_dist"
   ]
  },
  {
   "cell_type": "code",
   "execution_count": 3,
   "metadata": {
    "colab": {
     "base_uri": "https://localhost:8080/"
    },
    "id": "ceqlRwd-q6Rb",
    "outputId": "b91a5712-2113-4591-a451-6740b2d7dfa0"
   },
   "outputs": [
    {
     "name": "stdout",
     "output_type": "stream",
     "text": [
      "           SEQN  SDDSRVYR  RIDSTATR Gender/Sex  RIDAGEYR  RIDAGEMN  RIDRETH1  \\\n",
      "0      109263.0      66.0       2.0        NaN       2.0       NaN       5.0   \n",
      "1      109264.0      66.0       2.0        NaN      13.0       NaN       1.0   \n",
      "2      109265.0      66.0       2.0        NaN       2.0       NaN       3.0   \n",
      "3      109266.0      66.0       2.0        NaN      29.0       NaN       5.0   \n",
      "4      109267.0      66.0       1.0        NaN      21.0       NaN       2.0   \n",
      "...         ...       ...       ...        ...       ...       ...       ...   \n",
      "15555  124818.0      66.0       2.0        NaN      40.0       NaN       4.0   \n",
      "15556  124819.0      66.0       2.0        NaN       2.0       NaN       4.0   \n",
      "15557  124820.0      66.0       2.0        NaN       7.0       NaN       3.0   \n",
      "15558  124821.0      66.0       2.0        NaN      63.0       NaN       4.0   \n",
      "15559  124822.0      66.0       2.0        NaN      74.0       NaN       2.0   \n",
      "\n",
      "      Ethnicity/Race  RIDEXMON  DMDBORN4  ...  FIAINTRP MIALANG  MIAPROXY  \\\n",
      "0                NaN       2.0       1.0  ...       2.0     NaN       NaN   \n",
      "1                NaN       2.0       1.0  ...       2.0     1.0       2.0   \n",
      "2                NaN       2.0       1.0  ...       2.0     NaN       NaN   \n",
      "3                NaN       2.0       2.0  ...       2.0     1.0       2.0   \n",
      "4                NaN       NaN       2.0  ...       2.0     NaN       NaN   \n",
      "...              ...       ...       ...  ...       ...     ...       ...   \n",
      "15555            NaN       1.0       1.0  ...       2.0     1.0       2.0   \n",
      "15556            NaN       2.0       1.0  ...       2.0     NaN       NaN   \n",
      "15557            NaN       2.0       1.0  ...       2.0     NaN       NaN   \n",
      "15558            NaN       1.0       1.0  ...       2.0     1.0       2.0   \n",
      "15559            NaN       2.0       2.0  ...       NaN     2.0       2.0   \n",
      "\n",
      "       MIAINTRP  AIALANGA      WTINTPRP      WTMECPRP  SDMVPSU  SDMVSTRA  \\\n",
      "0           NaN       NaN   7891.762435   8951.815567      3.0     156.0   \n",
      "1           2.0       1.0  11689.747264  12271.157043      1.0     155.0   \n",
      "2           NaN       NaN  16273.825939  16658.764203      1.0     157.0   \n",
      "3           2.0       1.0   7825.646112   8154.968193      2.0     168.0   \n",
      "4           NaN       NaN  26379.991724      0.000000      1.0     156.0   \n",
      "...         ...       ...           ...           ...      ...       ...   \n",
      "15555       2.0       1.0  21586.596728  21666.889837      1.0     166.0   \n",
      "15556       NaN       NaN   1664.919253   1838.169709      2.0     171.0   \n",
      "15557       NaN       NaN  14819.783161  16497.806674      1.0     157.0   \n",
      "15558       2.0       1.0   4666.817952   4853.430230      1.0     158.0   \n",
      "15559       2.0       NaN  14024.476634  15195.796658      1.0     149.0   \n",
      "\n",
      "       INDFMPIR  \n",
      "0          4.66  \n",
      "1          0.83  \n",
      "2          3.06  \n",
      "3          5.00  \n",
      "4          5.00  \n",
      "...         ...  \n",
      "15555      3.82  \n",
      "15556      0.07  \n",
      "15557      1.22  \n",
      "15558      3.71  \n",
      "15559       NaN  \n",
      "\n",
      "[15560 rows x 29 columns]\n"
     ]
    }
   ],
   "source": [
    "# Define the mapping dictionaries\n",
    "gender_mapping = {'1': 'Male', '2': 'Female', 'NA': 'Missing'}\n",
    "ethnic_mapping = {'1': 'Mexican American', '2': 'Other Hispanic',\n",
    "                  '3': 'Non-Hispanic White', '4': 'Non-Hispanic Black',\n",
    "                  '6': 'Non-Hispanic Asian', '7': 'Other Race - Including Multi-Racial', 'NA': 'Missing'}\n",
    "educ_level_map = {'1':\t'Less than 9th grade',\n",
    "                  '2':\t'9-11th grade (Includes 12th grade with no diploma)',\n",
    "                  '3':\t'High school graduate/GED or equivalent',\n",
    "                  '4':\t'Some college or AA degree',\n",
    "                  '5':\t'College graduate or above',\n",
    "                  '7':\t'Refused',\n",
    "                  '9':\t\"Don't Know\",\n",
    "                  'NA':\t'Missing'}\n",
    "\n",
    "# Recode the values\n",
    "demographics['RIAGENDR'] = demographics['RIAGENDR'].map(gender_mapping)\n",
    "demographics['RIDRETH3'] = demographics['RIDRETH3'].map(ethnic_mapping)\n",
    "demographics['DMDEDUC2'] = demographics['DMDEDUC2'].map(educ_level_map)\n",
    "\n",
    "# Rename the columns\n",
    "demographics = demographics.rename(columns={'RIAGENDR': 'Gender/Sex'})\n",
    "demographics = demographics.rename(columns={'RIDRETH3': 'Ethnicity/Race'})\n",
    "demographics = demographics.rename(columns={'DMDEDUC2': 'Education level'})\n",
    "\n",
    "print(demographics)"
   ]
  },
  {
   "cell_type": "markdown",
   "metadata": {
    "id": "R9Ce3WnnGQz6"
   },
   "source": [
    "### This is where we will look at pre-diabetic patients' racial, educational, other demographic distributions\n",
    "\n",
    "We will repeat the same process as above doing a Chi-square distribution but this time we already have the distribution of demographics for the entire NHANES surveyed people"
   ]
  },
  {
   "cell_type": "code",
   "execution_count": null,
   "metadata": {
    "id": "XBBRS4JPGQz7"
   },
   "outputs": [],
   "source": [
    "# this is everyone who has prediabetes\n",
    "only_pre_dm = diabetics.query(\"DIQ160 == 1\")\n",
    "print(only_pre_dm)"
   ]
  },
  {
   "cell_type": "code",
   "execution_count": null,
   "metadata": {
    "id": "jM88TFsWGQz7"
   },
   "outputs": [],
   "source": [
    "# this is where we will analyze the demographic variable distributions for everyone with diabetes\n",
    "ethn_dm_dist = (only_dm.groupby(['RIDRETH3']).size()).reset_index(name = 'dm_counts')\n",
    "# ethn_dm_dist.rename(columns = {'RIDRETH3': 'Race'})\n",
    "total_ethn = (demographics.groupby(['RIDRETH3']).size()).reset_index(name = 'counts')\n",
    "ethn_dm_dist['total_ethn_counts'] = total_ethn['counts']\n",
    "ethn_dm_dist"
   ]
  },
  {
   "cell_type": "code",
   "execution_count": null,
   "metadata": {
    "id": "eM_toG-mGQz7"
   },
   "outputs": [],
   "source": [
    "# this is where we will analyze the demographic variable distributions for everyone with diabetes\n",
    "educ_dm_dist = (only_pre_dm.groupby(['DMDEDUC2']).size()).reset_index(name = 'dm_counts')\n",
    "# ethn_dm_dist.rename(columns = {'RIDRETH3': 'Race'})\n",
    "total_educ = (demographics.groupby(['DMDEDUC2']).size()).reset_index(name = 'counts')\n",
    "educ_dm_dist['total_educ_counts'] = total_educ['counts']\n",
    "educ_dm_dist"
   ]
  },
  {
   "cell_type": "code",
   "execution_count": null,
   "metadata": {
    "id": "2WDTQgq_GQz7"
   },
   "outputs": [],
   "source": [
    "ethn_educ_dm_dist = (only_pre_dm.groupby(['RIDRETH3', 'DMDEDUC2']).size()).reset_index(name = 'dm_counts')\n",
    "total_ethn = (demographics.groupby(['RIDRETH3', 'DMDEDUC2']).size()).reset_index(name = 'counts')\n",
    "ethn_educ_dm_dist['total_counts'] = total_ethn['counts']\n",
    "ethn_educ_dm_dist"
   ]
  },
  {
   "cell_type": "code",
   "execution_count": null,
   "metadata": {
    "id": "1-ZQTrZXT4E-"
   },
   "outputs": [],
   "source": []
  },
  {
   "cell_type": "markdown",
   "metadata": {
    "id": "fR4gy-WKL6D0"
   },
   "source": [
    "### Consideration:\n",
    "Identifying patterns of comorbidities between two or more races/ethnicities; and genders (males versus females)\n",
    "\n",
    "Here we are focusing on diabetics and retinopathy.\n",
    "\n",
    "Are there differences between ethnicities and the types or subtypes of diabetic retinopathies?\n",
    "\n",
    "Bioinformatics - we focus on pathways or molecular mechanisms that underlie disease\n",
    "\n",
    "Incidence rate per 100 is another important metric to use.\n",
    "\n",
    "\n",
    "What are we expecting (hint: look at the old paper, see what they found as results, see what they didn't investigate)\n",
    "\n",
    "Table 1: known risk factors (citations for each factor, include citations for those citations)."
   ]
  },
  {
   "cell_type": "markdown",
   "metadata": {
    "id": "p1DxsqciWTA0"
   },
   "source": [
    "### Consideration 2:\n",
    "\n",
    "Why am I looking at this paper?\n",
    "\n",
    "Why is the NHANES survey order the way it is?\n",
    "\n",
    "Does it change depending on age, gender or ethnicities etc.,?\n",
    "\n",
    "How does this help in terms of prompt engineering?"
   ]
  },
  {
   "cell_type": "code",
   "execution_count": null,
   "metadata": {
    "id": "TKhD4-iFTeWv"
   },
   "outputs": [],
   "source": [
    "import openai\n",
    "from scipy import stats\n",
    "\n",
    "openai.api_key = 'your-api-key'\n",
    "\n",
    "def perform_statistical_analysis(data):\n",
    "    mean = np.mean(data)\n",
    "    std_dev = np.std(data)\n",
    "    t_stat, p_value = stats.ttest_1samp(data, 0)\n",
    "    summary = {\n",
    "        'mean': mean,\n",
    "        'std_dev': std_dev,\n",
    "        't_stat': t_stat,\n",
    "        'p_value': p_value\n",
    "    }\n",
    "    return summary\n",
    "\n",
    "def summarize_results(summary):\n",
    "    return (\n",
    "        f\"Mean: {summary['mean']:.2f}, \"\n",
    "        f\"Standard Deviation: {summary['std_dev']:.2f}, \"\n",
    "        f\"t-Statistic: {summary['t_stat']:.2f}, \"\n",
    "        f\"p-Value: {summary['p_value']:.4f}\"\n",
    "    )\n",
    "\n",
    "def ask_chatgpt(prompt):\n",
    "    response = openai.Completion.create(\n",
    "        engine=\"davinci-codex\",  # Use \"text-davinci-003\" or another suitable model\n",
    "        prompt=prompt,\n",
    "        max_tokens=150\n",
    "    )\n",
    "    return response.choices[0].text.strip()\n",
    "\n",
    "def main():\n",
    "    # Example data\n",
    "    data = np.random.normal(loc=0, scale=1, size=100)\n",
    "\n",
    "    # Perform statistical analysis\n",
    "    summary = perform_statistical_analysis(data)\n",
    "\n",
    "    # Summarize results\n",
    "    summary_text = summarize_results(summary)\n",
    "    print(f\"Statistical Summary: {summary_text}\")\n",
    "\n",
    "    # Create the prompt for ChatGPT\n",
    "    prompt = (\n",
    "        f\"The results of the statistical analysis are as follows:\\n{summary_text}\\n\"\n",
    "        \"What insights can we draw from these results?\"\n",
    "    )\n",
    "\n",
    "    # Get response from ChatGPT\n",
    "    response = ask_chatgpt(prompt)\n",
    "    print(f\"ChatGPT Response: {response}\")\n",
    "\n",
    "if __name__ == \"__main__\":\n",
    "    main()\n"
   ]
  }
 ],
 "metadata": {
  "colab": {
   "provenance": []
  },
  "kernelspec": {
   "display_name": "Python 3",
   "language": "python",
   "name": "python3"
  },
  "language_info": {
   "codemirror_mode": {
    "name": "ipython",
    "version": 3
   },
   "file_extension": ".py",
   "mimetype": "text/x-python",
   "name": "python",
   "nbconvert_exporter": "python",
   "pygments_lexer": "ipython3",
   "version": "3.8.3"
  }
 },
 "nbformat": 4,
 "nbformat_minor": 1
}
